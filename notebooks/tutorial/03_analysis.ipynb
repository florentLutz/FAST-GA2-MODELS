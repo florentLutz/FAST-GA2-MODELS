{
 "cells": [
  {
   "cell_type": "markdown",
   "metadata": {},
   "source": [
    "<div class=\"row\">\n",
    "  <div class=\"column\">\n",
    "    <img src=\"./img/logo-onera.png\" width=\"200\">\n",
    "  </div>\n",
    "  <div class=\"column\">\n",
    "    <img src=\"./img/logo-ISAE_SUPAERO.png\" width=\"200\">\n",
    "  </div>\n",
    "</div>"
   ]
  },
  {
   "cell_type": "markdown",
   "metadata": {},
   "source": [
    "# FAST-OAD Analysis Tutorial\n",
    "FAST-OAD is a framework for performing rapid Overall Aircraft Design. The computational core of FAST-OAD is based on the  [OpenMDAO framework](https://openmdao.org/).\n",
    "The GA package stands for General Aviation models.\n",
    "\n",
    "This notebook will show you the basic step to perform an aircraft candidate analysis based on FAST-OAD features.\n",
    "\n",
    "To organize our work, we propose to use two user folders `data/` and `workdir/`. In `data/` we store the XML file which describes the aircraft to analyse, here the Beechcraft Duchess. In `workdir/`, we store files generated or modified by FAST-OAD-(GA)."
   ]
  },
  {
   "cell_type": "code",
   "execution_count": 1,
   "metadata": {
    "scrolled": true
   },
   "outputs": [
    {
     "name": "stdout",
     "output_type": "stream",
     "text": [
      "Unable to import mpi4py. Parallel processing unavailable.\n",
      "Unable to import petsc4py. Parallel processing unavailable.\n",
      "Unable to import petsc4py. Parallel processing unavailable.\n"
     ]
    },
    {
     "data": {
      "text/html": [
       "<style>.container { width:95% !important; }</style>"
      ],
      "text/plain": [
       "<IPython.core.display.HTML object>"
      ]
     },
     "metadata": {},
     "output_type": "display_data"
    }
   ],
   "source": [
    "import os.path as pth\n",
    "import openmdao.api as om\n",
    "from fastoad import api\n",
    "from fastga import api as _api\n",
    "import logging\n",
    "from fastoad.utils.postprocessing import VariableViewer\n",
    "import shutil\n",
    "\n",
    "DATA_FOLDER_PATH = 'data'\n",
    "\n",
    "WORK_FOLDER_PATH = 'workdir'\n",
    "\n",
    "# For having log messages on screen\n",
    "# logging.basicConfig(level=logging.INFO, format='%(levelname)-8s: %(message)s')\n",
    "\n",
    "# For using all screen width\n",
    "from IPython.core.display import display, HTML\n",
    "display(HTML(\"<style>.container { width:95% !important; }</style>\"))"
   ]
  },
  {
   "cell_type": "markdown",
   "metadata": {},
   "source": [
    "## 1. Read, modify and save different aircraft geometry configurations\n",
    "\n",
    "In this paragraph we will first run the geometry module on the reference aircraft to derive primary parameters into the detailed geometry set.\n",
    "\n",
    "**This is done in four steps:**\n",
    "1. copy the [reference aircraft file](./data/reference_aircraft.xml) to workdir under geometry_inputs.xml name,\n",
    "2. copy the [geometry.toml file](./data/geometry.toml) to workdir,\n",
    "3. run process,\n",
    "4. save output file under the specific name: geometry_reference.xml."
   ]
  },
  {
   "cell_type": "code",
   "execution_count": 2,
   "metadata": {},
   "outputs": [
    {
     "name": "stderr",
     "output_type": "stream",
     "text": [
      "Error visiting FAST-GA2-MODELS.models.aerodynamics.tests.test_beechcraft_76: Error installing bundle FAST-GA2-MODELS.models.aerodynamics.tests.test_beechcraft_76: No module named 'command'\n",
      "Error visiting FAST-GA2-MODELS.models.geometry.tests.test_beechcraft_76: Error installing bundle FAST-GA2-MODELS.models.geometry.tests.test_beechcraft_76: No module named 'command'\n",
      "Error visiting FAST-GA2-MODELS.tests.integration_tests.oad_process.test_oad_process: Error installing bundle FAST-GA2-MODELS.tests.integration_tests.oad_process.test_oad_process: No module named 'command'\n",
      "Error visiting FAST-GA2-MODELS.utils.physics: Error installing bundle FAST-GA2-MODELS.utils.physics: cannot import name 'Atmosphere2' from 'FAST-GA2-MODELS.utils.physics.atmosphere' (D:\\a.reysset\\Documents\\Github\\FAST-GA2-MODELS\\utils\\physics\\atmosphere.py)\n",
      "Cannot register factory 'test.wrapper.mass_breakdown.beechcraft.dummy_engine' of bundle 203 (FAST-GA2-MODELS.models.weight.mass_breakdown.tests.test_beechcraft_76): 'test.wrapper.mass_breakdown.beechcraft.dummy_engine' factory already exist\n",
      "class: <class 'FAST-GA2-MODELS.models.weight.mass_breakdown.tests.test_beechcraft_76.DummyEngineWrapper'> -- module: FAST-GA2-MODELS.models.weight.mass_breakdown.tests.test_beechcraft_76\n",
      "Cannot register factory 'test.wrapper.performances.beechcraft.dummy_engine' of bundle 139 (FAST-GA2-MODELS.models.performances.tests.test_beechcraft_76): 'test.wrapper.performances.beechcraft.dummy_engine' factory already exist\n",
      "class: <class 'FAST-GA2-MODELS.models.performances.tests.test_beechcraft_76.DummyEngineWrapper'> -- module: FAST-GA2-MODELS.models.performances.tests.test_beechcraft_76\n",
      "Cannot register factory 'test.wrapper.handling_qualities.beechcraft.dummy_engine' of bundle 126 (FAST-GA2-MODELS.models.handling_qualities.tests.test_beechcraft_76): 'test.wrapper.handling_qualities.beechcraft.dummy_engine' factory already exist\n",
      "class: <class 'FAST-GA2-MODELS.models.handling_qualities.tests.test_beechcraft_76.DummyEngineWrapper'> -- module: FAST-GA2-MODELS.models.handling_qualities.tests.test_beechcraft_76\n",
      "Failed to import module FAST-GA2-MODELS.tests.integration_tests.oad_process.test_oad_process\n",
      "Failed to import module FAST-GA2-MODELS.models.geometry.tests.test_beechcraft_76\n",
      "Failed to import module FAST-GA2-MODELS.models.aerodynamics.tests.test_beechcraft_76\n",
      "Failed to import module FAST-GA2-MODELS.utils.physics\n"
     ]
    },
    {
     "data": {
      "text/plain": [
       "'workdir\\\\geometry_reference.xml'"
      ]
     },
     "execution_count": 2,
     "metadata": {},
     "output_type": "execute_result"
    }
   ],
   "source": [
    "# Copy the reference geometry file (limited input parameters) as input file (name specified in .toml)\n",
    "shutil.copy(pth.join(DATA_FOLDER_PATH, 'reference_aircraft.xml'), pth.join(WORK_FOLDER_PATH, 'geometry_inputs.xml'))\n",
    "\n",
    "# Copy the .toml process file to the same location\n",
    "CONFIGURATION_FILE = pth.join(WORK_FOLDER_PATH, 'geometry.toml')\n",
    "shutil.copy(pth.join(DATA_FOLDER_PATH, 'geometry.toml'), CONFIGURATION_FILE)\n",
    "\n",
    "# Launch an evaluation to obtain the output file (name specified in the .toml)\n",
    "eval_problem = api.evaluate_problem(CONFIGURATION_FILE, overwrite=True)\n",
    "\n",
    "# Copy this file to a different name to avoid an overwritte when computing secong geometry\n",
    "shutil.copy(pth.join(WORK_FOLDER_PATH, 'geometry_outputs.xml'), pth.join(WORK_FOLDER_PATH, 'geometry_reference.xml'))"
   ]
  },
  {
   "cell_type": "markdown",
   "metadata": {},
   "source": [
    "**This process can be done using the api generate block analysis method to get this working such as a python function:**\n",
    "1. Same as previous, copy the reference aircraft but already into the aircraft name (same file used all along the process: overwritten)\n",
    "2. Import the Geometry module\n",
    "3. Generate a block analysis based on this model\n",
    "4. Launch a calculation on the wing shape parameters"
   ]
  },
  {
   "cell_type": "code",
   "execution_count": 3,
   "metadata": {},
   "outputs": [
    {
     "name": "stderr",
     "output_type": "stream",
     "text": [
      "Cannot register factory 'test.wrapper.handling_qualities.beechcraft.dummy_engine' of bundle 319 (models.handling_qualities.tests.test_beechcraft_76): 'test.wrapper.handling_qualities.beechcraft.dummy_engine' factory already exist\n",
      "class: <class 'models.handling_qualities.tests.test_beechcraft_76.DummyEngineWrapper'> -- module: models.handling_qualities.tests.test_beechcraft_76\n",
      "Cannot register factory 'test.wrapper.performances.beechcraft.dummy_engine' of bundle 331 (models.performances.tests.test_beechcraft_76): 'test.wrapper.performances.beechcraft.dummy_engine' factory already exist\n",
      "class: <class 'models.performances.tests.test_beechcraft_76.DummyEngineWrapper'> -- module: models.performances.tests.test_beechcraft_76\n",
      "Cannot register factory 'test.wrapper.mass_breakdown.beechcraft.dummy_engine' of bundle 395 (models.weight.mass_breakdown.tests.test_beechcraft_76): 'test.wrapper.mass_breakdown.beechcraft.dummy_engine' factory already exist\n",
      "class: <class 'models.weight.mass_breakdown.tests.test_beechcraft_76.DummyEngineWrapper'> -- module: models.weight.mass_breakdown.tests.test_beechcraft_76\n",
      "Cannot register factory 'test.wrapper.aerodynamics.beechcraft.dummy_engine' of bundle 268 (models.aerodynamics.tests.test_beechcraft_76): 'test.wrapper.aerodynamics.beechcraft.dummy_engine' factory already exist\n",
      "class: <class 'models.aerodynamics.tests.test_beechcraft_76.DummyEngineWrapper'> -- module: models.aerodynamics.tests.test_beechcraft_76\n",
      "Cannot register factory 'fastga.wrapper.propulsion.basicIC_engine' of bundle 339 (models.propulsion.fuel_propulsion.basicIC_engine.openmdao): 'fastga.wrapper.propulsion.basicIC_engine' factory already exist\n",
      "class: <class 'models.propulsion.fuel_propulsion.basicIC_engine.openmdao.OMBasicICEngineWrapper'> -- module: models.propulsion.fuel_propulsion.basicIC_engine.openmdao\n",
      "Cannot register factory 'test.wrapper.performances.beechcraft.dummy_engine' of bundle 332 (models.performances.tests.test_beechcraft_76): 'test.wrapper.performances.beechcraft.dummy_engine' factory already exist\n",
      "class: <class 'models.performances.tests.test_beechcraft_76.DummyEngineWrapper'> -- module: models.performances.tests.test_beechcraft_76\n",
      "Cannot register factory 'test.wrapper.geometry.beechcraft.dummy_engine' of bundle 310 (models.geometry.tests.test_beechcraft_76): 'test.wrapper.geometry.beechcraft.dummy_engine' factory already exist\n",
      "class: <class 'models.geometry.tests.test_beechcraft_76.DummyEngineWrapper'> -- module: models.geometry.tests.test_beechcraft_76\n",
      "Cannot register factory 'test.wrapper.mass_breakdown.beechcraft.dummy_engine' of bundle 396 (models.weight.mass_breakdown.tests.test_beechcraft_76): 'test.wrapper.mass_breakdown.beechcraft.dummy_engine' factory already exist\n",
      "class: <class 'models.weight.mass_breakdown.tests.test_beechcraft_76.DummyEngineWrapper'> -- module: models.weight.mass_breakdown.tests.test_beechcraft_76\n",
      "Cannot register factory 'test.wrapper.handling_qualities.beechcraft.dummy_engine' of bundle 320 (models.handling_qualities.tests.test_beechcraft_76): 'test.wrapper.handling_qualities.beechcraft.dummy_engine' factory already exist\n",
      "class: <class 'models.handling_qualities.tests.test_beechcraft_76.DummyEngineWrapper'> -- module: models.handling_qualities.tests.test_beechcraft_76\n",
      "C:\\ProgramData\\Anaconda3\\lib\\site-packages\\fastga\\command\\api.py:123: UserWarning: Some inputs are missing in the given .xml file, they have been added with default NaN, but no function is returned!\n",
      "Consider defining proper values before second execution!\n",
      "  warnings.warn('Some inputs are missing in the given .xml file, they have been added with default NaN, '\n"
     ]
    }
   ],
   "source": [
    "from fastga.models.geometry import Geometry\n",
    "\n",
    "# Copy reference aircraft file\n",
    "AIRCRAFT1_FILE = pth.join(WORK_FOLDER_PATH, 'geometry_long_wing.xml')\n",
    "shutil.copy(pth.join(DATA_FOLDER_PATH, 'reference_aircraft.xml'), AIRCRAFT1_FILE)\n",
    "\n",
    "# Define the wing primary geometry parameters name as a list\n",
    "var_inputs = [\"data:geometry:wing:area\", \"data:geometry:wing:aspect_ratio\", \"data:geometry:wing:taper_ratio\"]\n",
    "\n",
    "# Declare function\n",
    "compute_geometry = _api.generate_block_analysis(\n",
    "        Geometry(propulsion_id=\"fastga.wrapper.propulsion.basicIC_engine\"),\n",
    "        var_inputs,\n",
    "        AIRCRAFT1_FILE,\n",
    "        True,\n",
    "    )"
   ]
  },
  {
   "cell_type": "markdown",
   "metadata": {},
   "source": [
    "Now, we want to increase the span by 15% without changing the first part of the wing.\n",
    "\n",
    "We have the following relationships:\n",
    "\n",
    "$virtualChord=\\frac{area}{2*y_{2}+(y_{4}-y_{2})*(1+taperRatio)}$\n",
    "\n",
    "$aspectRatio=\\frac{span^2}{area}$\n",
    "\n",
    "With $y_{2}$ the y-position of the root chord and $y_{4}$ the y-position of the tip chord.\n",
    "\n",
    "Meaning:\n",
    "\n",
    "$\\frac{area}{area_{ref}}=\\frac{2*y_{2}+(y_{4}-y_{2})*(1+taperRatio)}{2*y_{2,ref}+(y_{4,ref}-y_{2,ref})*(1+taperRatio_{ref})}\\implies{}area=\\frac{2*y_{2,ref}+(\\lambda*y_{4,ref}-y_{2,ref})*(1+taperRatio)}{2*y_{2,ref}+(y_{4,ref}-y_{2,ref})*(1+taperRatio_{ref})}*area_{ref}$\n",
    "\n",
    "With $\\lambda$=1.15.\n",
    "\n",
    "So, let us read $y_{2}$ and $y_{4}$ in the reference geometry."
   ]
  },
  {
   "cell_type": "code",
   "execution_count": null,
   "metadata": {
    "scrolled": true
   },
   "outputs": [],
   "source": [
    "inputs_dict = {\"data:geometry:wing:area\": (21.66, \"m**2\"), \"data:geometry:wing:aspect_ratio\": (9.332, None), \"data:geometry:wing:taper_ratio\": (0.77, None)}\n",
    "outputs_dict = compute_geometry(inputs_dict)\n",
    "print(outputs_dict)"
   ]
  },
  {
   "cell_type": "markdown",
   "metadata": {},
   "source": [
    "With $y_{2}=0.599$, $y_{4}=6.182$ we find:"
   ]
  },
  {
   "cell_type": "code",
   "execution_count": null,
   "metadata": {},
   "outputs": [],
   "source": [
    "taper_func = lambda taper_old, lamb: lamb * taper_old + (1 - lamb)\n",
    "area_func = lambda area_ref, taper_ratio_old, taper_ratio_new, lamb, y2_ref, y4_ref : (2*y2_ref + (lamb*y4_ref-y2_ref)*(1+taper_ratio_new))/(2*y2_ref + (y4_ref-y2_ref)*(1+taper_ratio_old)) * area_ref\n",
    "taper_ratio_new = taper_func(0.8, 1.15)\n",
    "area = area_func(19.151, 0.8, taper_ratio_new, 1.15, 0.599, 6.182)\n",
    "span = 12.363014640450768\n",
    "print(\"area=\" + str(area))\n",
    "print(\"aspect_ratio=\" + str((span*1.15)**2/area))\n",
    "print(\"taper_ratio=\" + str(taper_ratio_new))"
   ]
  },
  {
   "cell_type": "markdown",
   "metadata": {},
   "source": [
    "So we will apply the modifications of aspect ratio and area in accordance with previous results:"
   ]
  },
  {
   "cell_type": "code",
   "execution_count": null,
   "metadata": {},
   "outputs": [],
   "source": [
    "api.variable_viewer(pth.join(WORK_FOLDER_PATH, 'geometry_inputs.xml'))"
   ]
  },
  {
   "cell_type": "markdown",
   "metadata": {},
   "source": [
    "We will finish this step by saving the output generated geometry under [geometry_long_wing.xml](./workdir/geometry_long_wing.xml) file name."
   ]
  },
  {
   "cell_type": "code",
   "execution_count": null,
   "metadata": {},
   "outputs": [],
   "source": [
    "eval_problem = api.evaluate_problem(CONFIGURATION_FILE, overwrite=True)\n",
    "\n",
    "shutil.copy(pth.join(WORK_FOLDER_PATH, 'geometry_outputs.xml'), pth.join(WORK_FOLDER_PATH, 'geometry_long_wing.xml'))"
   ]
  },
  {
   "cell_type": "markdown",
   "metadata": {},
   "source": [
    "We will finish by visualizing the two generated geometries before performing other calculation/analysis steps."
   ]
  },
  {
   "cell_type": "code",
   "execution_count": null,
   "metadata": {
    "scrolled": false
   },
   "outputs": [],
   "source": [
    "from fastoad.utils.postprocessing.analysis_and_plots import aircraft_geometry_plot\n",
    "\n",
    "fig = aircraft_geometry_plot(pth.join(WORK_FOLDER_PATH, 'geometry_reference.xml'), name='reference aircraft')\n",
    "fig = aircraft_geometry_plot(pth.join(WORK_FOLDER_PATH, 'geometry_long_wing.xml'), name='long wing aircraft', fig=fig)\n",
    "fig.show()"
   ]
  },
  {
   "cell_type": "markdown",
   "metadata": {},
   "source": [
    "## 2. Plotting evolution diagram of the aircrafts\n",
    "In this chapter we will see how to plot evolution diagram for the two aircraft geometries presented above."
   ]
  },
  {
   "cell_type": "code",
   "execution_count": null,
   "metadata": {},
   "outputs": [],
   "source": []
  },
  {
   "cell_type": "markdown",
   "metadata": {},
   "source": [
    "## 3. Mass breakdown plots"
   ]
  },
  {
   "cell_type": "markdown",
   "metadata": {},
   "source": [
    "This first mass breakdown plot enables to visualize the Maximum TakeOff Weight (MTOW) and Overall Weight Empty (OWE) for a single design."
   ]
  },
  {
   "cell_type": "code",
   "execution_count": null,
   "metadata": {},
   "outputs": [],
   "source": [
    "fig = mass_breakdown_sun_plot(Beechcraft_800nm_MDA_OUTPUT_FILE)\n",
    "fig.show()"
   ]
  },
  {
   "cell_type": "markdown",
   "metadata": {},
   "source": [
    "This second mass breakdown plot provides less detail but enables to compare designs."
   ]
  },
  {
   "cell_type": "code",
   "execution_count": null,
   "metadata": {},
   "outputs": [],
   "source": [
    "fig = mass_breakdown_bar_plot(Beechcraft_800nm_MDA_OUTPUT_FILE, name='Beechcraft 800 nm MDA')\n",
    "fig = mass_breakdown_bar_plot(Beechcraft_1000nm_MDA_OUTPUT_FILE, name='Beechcraft 1000 nm MDA', fig=fig)\n",
    "#fig = mass_breakdown_bar_plot(Beechcraft_800nm_MDO_OUTPUT_FILE, name='Beechcraft 800 nm MDO', fig=fig)\n",
    "fig.show()"
   ]
  },
  {
   "cell_type": "code",
   "execution_count": null,
   "metadata": {},
   "outputs": [],
   "source": []
  }
 ],
 "metadata": {
  "kernelspec": {
   "display_name": "Python 3",
   "language": "python",
   "name": "python3"
  },
  "language_info": {
   "codemirror_mode": {
    "name": "ipython",
    "version": 3
   },
   "file_extension": ".py",
   "mimetype": "text/x-python",
   "name": "python",
   "nbconvert_exporter": "python",
   "pygments_lexer": "ipython3",
   "version": "3.7.3"
  }
 },
 "nbformat": 4,
 "nbformat_minor": 4
}
